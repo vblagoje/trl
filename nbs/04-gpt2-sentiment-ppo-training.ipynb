{
 "cells": [
  {
   "cell_type": "markdown",
   "metadata": {},
   "source": [
    "# Tune GPT2 to generate positive reviews\n",
    "> Optimise GPT2 to produce positive IMDB movie reviews using a BERT sentiment classifier for rewards."
   ]
  },
  {
   "cell_type": "markdown",
   "metadata": {},
   "source": [
    "<div style=\"text-align: center\">\n",
    "<img src='images/gpt2_bert_training.png' width='600'>\n",
    "<p style=\"text-align: center;\"> <b>Figure:</b> Experiment setup to tune GPT2. The yellow arrows are outside the scope of this notebook, but the trained models are available through Hugging Face. </p>\n",
    "</div>\n",
    "\n",
    "\n",
    "In this notebook we fine-tune GPT2 (small) to generate positive movie reviews based on the IMDB dataset. The model gets 5 tokens from a real review and is tasked to produce positive continuations. To reward positive continuations we use a BERT classifier to analyse the sentiment of the produced sentences and use the classifier's outputs as rewards signals for PPO training."
   ]
  },
  {
   "cell_type": "markdown",
   "metadata": {},
   "source": [
    "## Setup experiment"
   ]
  },
  {
   "cell_type": "markdown",
   "metadata": {},
   "source": [
    "### Import dependencies"
   ]
  },
  {
   "cell_type": "code",
   "execution_count": null,
   "metadata": {},
   "outputs": [],
   "source": [
    "%load_ext autoreload\n",
    "%autoreload 2"
   ]
  },
  {
   "cell_type": "code",
   "execution_count": null,
   "metadata": {},
   "outputs": [],
   "source": [
    "import torch\n",
    "import wandb\n",
    "import time\n",
    "import os\n",
    "from tqdm import tqdm\n",
    "import numpy as np\n",
    "import pandas as pd\n",
    "tqdm.pandas()\n",
    "\n",
    "from transformers import GPT2Tokenizer\n",
    "from transformers import AutoModelForSequenceClassification, AutoTokenizer\n",
    "\n",
    "from trl.gpt2 import GPT2HeadWithValueModel\n",
    "from trl.ppo import PPOTrainer\n",
    "from trl.core import build_bert_batch_from_txt"
   ]
  },
  {
   "cell_type": "markdown",
   "metadata": {},
   "source": [
    "### Configuration"
   ]
  },
  {
   "cell_type": "code",
   "execution_count": null,
   "metadata": {},
   "outputs": [],
   "source": [
    "config = {\n",
    "    \"lm_name\": \"lvwerra/gpt2-imdb\",\n",
    "    \"ref_lm_name\": \"lvwerra/gpt2-imdb\",\n",
    "    \"cls_model_name\": \"lvwerra/bert-imdb\",\n",
    "    \"tk_name\": \"gpt2\",\n",
    "    \"steps\": 25600,\n",
    "    \"batch_size\": 256,\n",
    "    \"forward_batch_size\": 16,\n",
    "    \"ppo_epochs\": 4,   \n",
    "    \"txt_in_len\": 5,\n",
    "    \"txt_out_len\": 15,\n",
    "    \"lr\": 1.41e-5,\n",
    "    \"init_kl_coef\":0.2,\n",
    "    \"target\": 6,\n",
    "    \"horizon\":10000,\n",
    "    \"gamma\":1,\n",
    "    \"lam\":0.95,\n",
    "    \"cliprange\": .2,\n",
    "    \"cliprange_value\":.2,\n",
    "    \"vf_coef\":.1, \n",
    "}"
   ]
  },
  {
   "cell_type": "markdown",
   "metadata": {},
   "source": [
    "You can see that we load a GPT2 model called `gpt2_imdb`. This model was additionally fine-tuned on the IMDB dataset for 1 epoch with the huggingface [script](https://github.com/huggingface/transformers/blob/master/examples/run_language_modeling.py) (no special settings). The other parameters are mostly taken from the original paper [\"Fine-Tuning Language Models from Human Preferences\"](\n",
    "https://arxiv.org/pdf/1909.08593.pdf). This model as well as the BERT model is available in the Huggingface model zoo [here](https://huggingface.co/models). The following code should automatically download the models."
   ]
  },
  {
   "cell_type": "markdown",
   "metadata": {},
   "source": [
    "### Initialize W&B logger\n",
    "We use `wandb`to log all the metrics during training."
   ]
  },
  {
   "cell_type": "code",
   "execution_count": null,
   "metadata": {},
   "outputs": [
    {
     "data": {
      "text/html": [
       "\n",
       "                Logging results to <a href=\"https://wandb.com\" target=\"_blank\">Weights & Biases</a> <a href=\"https://docs.wandb.com/integrations/jupyter.html\" target=\"_blank\">(Documentation)</a>.<br/>\n",
       "                Project page: <a href=\"https://app.wandb.ai/lvwerra/gpt2-sentiment\" target=\"_blank\">https://app.wandb.ai/lvwerra/gpt2-sentiment</a><br/>\n",
       "                Run page: <a href=\"https://app.wandb.ai/lvwerra/gpt2-sentiment/runs/u7xlm5y6\" target=\"_blank\">https://app.wandb.ai/lvwerra/gpt2-sentiment/runs/u7xlm5y6</a><br/>\n",
       "            "
      ],
      "text/plain": [
       "<IPython.core.display.HTML object>"
      ]
     },
     "metadata": {},
     "output_type": "display_data"
    },
    {
     "data": {
      "text/plain": [
       "W&B Run: https://app.wandb.ai/lvwerra/gpt2-sentiment/runs/u7xlm5y6"
      ]
     },
     "execution_count": null,
     "metadata": {},
     "output_type": "execute_result"
    }
   ],
   "source": [
    "wandb.init(name='run-42', project='gpt2-sentiment', config=config)"
   ]
  },
  {
   "cell_type": "markdown",
   "metadata": {},
   "source": [
    "## Load data and models"
   ]
  },
  {
   "cell_type": "markdown",
   "metadata": {},
   "source": [
    "### Load IMDB dataset\n",
    "The IMDB dataset contains 50k movie review annotated with \"positive\"/\"negative\" feedback indicating the sentiment. It can be downloaded from Kaggle ([link](https://www.kaggle.com/lakshmi25npathi/imdb-dataset-of-50k-movie-reviews)).  We load the IMDB dataset into a DataFrame and filter for comments that are at least 500 characters long and take the first 1000 characters of each comment. The first filter we apply to avoid comments that are less than `txt_in_len` token long and the second to avoid tokenizing way more text than we actually need."
   ]
  },
  {
   "cell_type": "code",
   "execution_count": null,
   "metadata": {},
   "outputs": [
    {
     "data": {
      "text/html": [
       "<div>\n",
       "<style scoped>\n",
       "    .dataframe tbody tr th:only-of-type {\n",
       "        vertical-align: middle;\n",
       "    }\n",
       "\n",
       "    .dataframe tbody tr th {\n",
       "        vertical-align: top;\n",
       "    }\n",
       "\n",
       "    .dataframe thead th {\n",
       "        text-align: right;\n",
       "    }\n",
       "</style>\n",
       "<table border=\"1\" class=\"dataframe\">\n",
       "  <thead>\n",
       "    <tr style=\"text-align: right;\">\n",
       "      <th></th>\n",
       "      <th>review</th>\n",
       "      <th>sentiment</th>\n",
       "    </tr>\n",
       "  </thead>\n",
       "  <tbody>\n",
       "    <tr>\n",
       "      <th>0</th>\n",
       "      <td>One of the other reviewers has mentioned that ...</td>\n",
       "      <td>positive</td>\n",
       "    </tr>\n",
       "    <tr>\n",
       "      <th>1</th>\n",
       "      <td>A wonderful little production. &lt;br /&gt;&lt;br /&gt;The...</td>\n",
       "      <td>positive</td>\n",
       "    </tr>\n",
       "    <tr>\n",
       "      <th>2</th>\n",
       "      <td>I thought this was a wonderful way to spend ti...</td>\n",
       "      <td>positive</td>\n",
       "    </tr>\n",
       "    <tr>\n",
       "      <th>3</th>\n",
       "      <td>Basically there's a family where a little boy ...</td>\n",
       "      <td>negative</td>\n",
       "    </tr>\n",
       "    <tr>\n",
       "      <th>4</th>\n",
       "      <td>Petter Mattei's \"Love in the Time of Money\" is...</td>\n",
       "      <td>positive</td>\n",
       "    </tr>\n",
       "  </tbody>\n",
       "</table>\n",
       "</div>"
      ],
      "text/plain": [
       "                                              review sentiment\n",
       "0  One of the other reviewers has mentioned that ...  positive\n",
       "1  A wonderful little production. <br /><br />The...  positive\n",
       "2  I thought this was a wonderful way to spend ti...  positive\n",
       "3  Basically there's a family where a little boy ...  negative\n",
       "4  Petter Mattei's \"Love in the Time of Money\" is...  positive"
      ]
     },
     "execution_count": null,
     "metadata": {},
     "output_type": "execute_result"
    }
   ],
   "source": [
    "# makes sure you download the imdb-dataset in the data folder\n",
    "df = pd.read_csv('../data/imdb-dataset.csv')\n",
    "\n",
    "# make sure the comments are long enough\n",
    "df = df.loc[df['review'].str.len() > 500]\n",
    "\n",
    "# make sure comments are not too long\n",
    "df['review'] = df['review'].apply(lambda x: x[:1000])\n",
    "\n",
    "df.head()"
   ]
  },
  {
   "cell_type": "markdown",
   "metadata": {},
   "source": [
    "### Load BERT classifier\n",
    "We load a BERT classifier fine-tuned on the IMDB dataset."
   ]
  },
  {
   "cell_type": "code",
   "execution_count": null,
   "metadata": {},
   "outputs": [],
   "source": [
    "sentiment_model = AutoModelForSequenceClassification.from_pretrained(config[\"cls_model_name\"])\n",
    "sentiment_tokenizer = AutoTokenizer.from_pretrained(config[\"cls_model_name\"])"
   ]
  },
  {
   "cell_type": "markdown",
   "metadata": {},
   "source": [
    "The model outputs are the logits for the negative and positive class. We will use the logits for positive class as a reward signal for the language model."
   ]
  },
  {
   "cell_type": "code",
   "execution_count": null,
   "metadata": {},
   "outputs": [
    {
     "data": {
      "text/plain": [
       "(tensor([[ 3.6573, -4.2497]], grad_fn=<AddmmBackward>),)"
      ]
     },
     "execution_count": null,
     "metadata": {},
     "output_type": "execute_result"
    }
   ],
   "source": [
    "text = 'this movie was really bad!!'\n",
    "output = sentiment_model.forward(sentiment_tokenizer.encode(text, return_tensors=\"pt\"))\n",
    "output"
   ]
  },
  {
   "cell_type": "code",
   "execution_count": null,
   "metadata": {},
   "outputs": [
    {
     "data": {
      "text/plain": [
       "(tensor([[-3.7931,  4.2146]], grad_fn=<AddmmBackward>),)"
      ]
     },
     "execution_count": null,
     "metadata": {},
     "output_type": "execute_result"
    }
   ],
   "source": [
    "text = 'this movie was really good!!'\n",
    "output = sentiment_model.forward(sentiment_tokenizer.encode(text, return_tensors=\"pt\"))\n",
    "output"
   ]
  },
  {
   "cell_type": "markdown",
   "metadata": {},
   "source": [
    "The resulting reward signal:"
   ]
  },
  {
   "cell_type": "code",
   "execution_count": null,
   "metadata": {},
   "outputs": [
    {
     "data": {
      "text/plain": [
       "tensor(4.2146, grad_fn=<SelectBackward>)"
      ]
     },
     "execution_count": null,
     "metadata": {},
     "output_type": "execute_result"
    }
   ],
   "source": [
    "output[0][0, 1]"
   ]
  },
  {
   "cell_type": "markdown",
   "metadata": {},
   "source": [
    "### Load pre-trained GPT2 language models"
   ]
  },
  {
   "cell_type": "markdown",
   "metadata": {},
   "source": [
    "We load the GPT2 model with a value head and the tokenizer. We load the model twice; the first model is optimized while the second model serves as a reference to calculate the KL-divergence from the starting point. This serves as an additional reward signal in the PPO training to make sure the optimized model does not deviate too much from the original language model."
   ]
  },
  {
   "cell_type": "code",
   "execution_count": null,
   "metadata": {},
   "outputs": [],
   "source": [
    "gpt2_model = GPT2HeadWithValueModel.from_pretrained(config['lm_name'])\n",
    "gpt2_model_ref = GPT2HeadWithValueModel.from_pretrained(config['ref_lm_name'])\n",
    "gpt2_tokenizer = GPT2Tokenizer.from_pretrained(config['tk_name'])"
   ]
  },
  {
   "cell_type": "markdown",
   "metadata": {},
   "source": [
    "### Watch model with wandb\n",
    "This wandb magic logs the gradients and weights of the model during training."
   ]
  },
  {
   "cell_type": "code",
   "execution_count": null,
   "metadata": {},
   "outputs": [],
   "source": [
    "wandb.watch(gpt2_model, log='all')"
   ]
  },
  {
   "cell_type": "markdown",
   "metadata": {},
   "source": [
    "### Move models to GPU"
   ]
  },
  {
   "cell_type": "markdown",
   "metadata": {},
   "source": [
    "If `cuda` is available move the computations to the GPU."
   ]
  },
  {
   "cell_type": "code",
   "execution_count": null,
   "metadata": {},
   "outputs": [],
   "source": [
    "device = torch.device(\"cuda\" if torch.cuda.is_available() else \"cpu\")"
   ]
  },
  {
   "cell_type": "code",
   "execution_count": null,
   "metadata": {},
   "outputs": [],
   "source": [
    "_ = gpt2_model.to(device)\n",
    "_ = sentiment_model.to(device)\n",
    "_ = gpt2_model_ref.to(device)"
   ]
  },
  {
   "cell_type": "markdown",
   "metadata": {},
   "source": [
    "### Tokenize IMDB reviews"
   ]
  },
  {
   "cell_type": "markdown",
   "metadata": {},
   "source": [
    "We tokenize all IMDB in advance to avoid tokenizing twice. In the first step we encode the queries and slice the first `txt_in_len` tokens. In a second step we decode these tokens back to text for later display."
   ]
  },
  {
   "cell_type": "code",
   "execution_count": null,
   "metadata": {},
   "outputs": [
    {
     "name": "stderr",
     "output_type": "stream",
     "text": [
      "100%|██████████| 45017/45017 [00:46<00:00, 959.20it/s] \n"
     ]
    }
   ],
   "source": [
    "df['tokens'] = df['review'].progress_apply(lambda x: gpt2_tokenizer.encode(x, return_tensors=\"pt\").to(device)[0, :config['txt_in_len']])"
   ]
  },
  {
   "cell_type": "code",
   "execution_count": null,
   "metadata": {},
   "outputs": [
    {
     "name": "stderr",
     "output_type": "stream",
     "text": [
      "100%|██████████| 45017/45017 [00:05<00:00, 8993.62it/s]\n"
     ]
    }
   ],
   "source": [
    "df['query'] = df['tokens'].progress_apply(lambda x: gpt2_tokenizer.decode(x))"
   ]
  },
  {
   "cell_type": "markdown",
   "metadata": {},
   "source": [
    "## Optimize model"
   ]
  },
  {
   "cell_type": "markdown",
   "metadata": {},
   "source": [
    "**Steps**\n",
    "\n",
    "The training loop consists of the following steps:\n",
    "1. Get a batch of queries\n",
    "2. Get the query responses from the policy\n",
    "3. Join query and responses and tokenize for BERT analysis\n",
    "4. Get sentiments for query/responses from BERT\n",
    "5. Optimize policy with PPO using the (query, response, reward) triplet\n",
    "6. Log all the training statistics\n",
    "\n",
    "**Forward batching**\n",
    "\n",
    "Since the models can be fairly big and we want to rollout large PPO batches this can lead to out-of-memory errors when doing the forward passes for text generation and sentiment analysis. We introduce the parameter `forward_batch_size` to split the forward passes into smaller batches. Although this hurts performance a little this is neglectible compared to the computations of the backward passes when optimizing the model. The same parameter is used in the `PPOTrainer` when doing forward passes. The `batch_size` should multiple of `forward_batch_size`.\n",
    "\n",
    "**Training time**\n",
    "\n",
    "This step takes **~2h** on a P6000 GPU with the above specified settings."
   ]
  },
  {
   "cell_type": "code",
   "execution_count": null,
   "metadata": {},
   "outputs": [
    {
     "name": "stderr",
     "output_type": "stream",
     "text": [
      "100%|██████████| 100/100 [2:08:18<00:00, 76.99s/it] \n"
     ]
    }
   ],
   "source": [
    "ppo_trainer = PPOTrainer(gpt2_model, gpt2_model_ref, **config)\n",
    "fbs = config['forward_batch_size']\n",
    "\n",
    "for epoch in tqdm(range(int(np.ceil(config[\"steps\"]/config['batch_size'])))):\n",
    "    torch.cuda.empty_cache()\n",
    "    logs = dict()\n",
    "    game_data = dict()\n",
    "    timing = dict()\n",
    "    t0 = time.time()\n",
    "    \n",
    "    #### get a batch from the dataset\n",
    "    df_batch = df.sample(config['batch_size'])\n",
    "    game_data['query'] = df_batch['query'].tolist()\n",
    "    query_tensors = torch.stack(df_batch['tokens'].tolist())\n",
    "    \n",
    "    #### get response from gpt2\n",
    "    t = time.time()\n",
    "    total_length = config['txt_in_len']+config['txt_out_len']\n",
    "    response_tensors = []\n",
    "    for i in range(int(config['batch_size']/fbs)):\n",
    "        response  = gpt2_model.respond_to_batch(query_tensors[i*fbs:(i+1)*fbs],\n",
    "                                     max_length=config['txt_out_len'])\n",
    "        response_tensors.append(response)\n",
    "    response_tensors = torch.cat(response_tensors)\n",
    "    game_data['response'] = [gpt2_tokenizer.decode(response_tensors[i, :]) for i in range(config['batch_size'])]\n",
    "    timing['time/get_response'] = time.time()-t\n",
    "\n",
    "    #### tokenize text for sentiment analysis\n",
    "    t = time.time()\n",
    "    texts = [q + r for q,r in zip(game_data['query'], game_data['response'])]\n",
    "    sentiment_inputs, attention_masks = build_bert_batch_from_txt(texts, sentiment_tokenizer, device)    \n",
    "    timing['time/build_input_sentiment'] = time.time()-t\n",
    "\n",
    "    #### get sentiment score\n",
    "    t = time.time()\n",
    "    rewards = []\n",
    "    for i in range(int(config['batch_size']/fbs)):\n",
    "        res = sentiment_model.forward(sentiment_inputs[i*fbs:(i+1)*fbs],\n",
    "                                      attention_masks[i*fbs:(i+1)*fbs])[0][:, 1].detach()\n",
    "        rewards.append(res)\n",
    "    rewards = torch.cat(rewards)\n",
    "    timing['time/get_sentiment_preds'] = time.time()-t\n",
    "\n",
    "    #### Run PPO training \n",
    "    t = time.time()\n",
    "    stats = ppo_trainer.step(query_tensors, response_tensors, rewards)\n",
    "    timing['time/optimization'] = time.time()-t\n",
    "     \n",
    "    #### Log everything\n",
    "    timing['time/epoch'] = time.time()-t0\n",
    "    table_rows = [list(r) for r in zip(game_data['query'], game_data['response'], rewards.cpu().tolist())]\n",
    "    logs.update({'game_log':wandb.Table(\n",
    "        columns=['query', 'response', 'reward'],\n",
    "        rows=table_rows)})\n",
    "    logs.update(timing)\n",
    "    logs.update(stats)\n",
    "    logs['env/reward_mean'] = torch.mean(rewards).cpu().numpy()\n",
    "    logs['env/reward_std'] = torch.std(rewards).cpu().numpy()\n",
    "    logs['env/reward_dist'] = rewards.cpu().numpy()\n",
    "    wandb.log(logs)"
   ]
  },
  {
   "cell_type": "markdown",
   "metadata": {},
   "source": [
    "### Training progress\n",
    "If you are tracking the training progress with Weights&Biases you should see a plot similar to the one below. Check out the interactive sample report on wandb.ai: [link](https://app.wandb.ai/lvwerra/trl-showcase/runs/1jtvxb1m/).\n",
    "\n",
    "<div style=\"text-align: center\">\n",
    "<img src='images/gpt2_tuning_progress.png' width='800'>\n",
    "<p style=\"text-align: center;\"> <b>Figure:</b> Reward mean and distribution evolution during training. </p>\n",
    "</div>\n",
    "\n",
    "One can observe how the model starts to generate more positive outputs after a few optimisation steps.\n",
    "\n",
    "> Note: Investigating the KL-divergence will probably show that at this point the model has not converged to the target KL-divergence, yet. To get there would require longer training or starting with a higher inital coefficient."
   ]
  },
  {
   "cell_type": "markdown",
   "metadata": {},
   "source": [
    "## Model inspection\n",
    "Let's inspect some examples from the IMDB dataset. We can use `gpt2_model_ref` to compare the tuned model `gpt2_model` against the model before optimisation."
   ]
  },
  {
   "cell_type": "code",
   "execution_count": null,
   "metadata": {},
   "outputs": [
    {
     "data": {
      "text/html": [
       "<div>\n",
       "<style scoped>\n",
       "    .dataframe tbody tr th:only-of-type {\n",
       "        vertical-align: middle;\n",
       "    }\n",
       "\n",
       "    .dataframe tbody tr th {\n",
       "        vertical-align: top;\n",
       "    }\n",
       "\n",
       "    .dataframe thead th {\n",
       "        text-align: right;\n",
       "    }\n",
       "</style>\n",
       "<table border=\"1\" class=\"dataframe\">\n",
       "  <thead>\n",
       "    <tr style=\"text-align: right;\">\n",
       "      <th></th>\n",
       "      <th>query</th>\n",
       "      <th>response (before)</th>\n",
       "      <th>response (after)</th>\n",
       "      <th>rewards (before)</th>\n",
       "      <th>rewards (after)</th>\n",
       "    </tr>\n",
       "  </thead>\n",
       "  <tbody>\n",
       "    <tr>\n",
       "      <th>0</th>\n",
       "      <td>That's what the title</td>\n",
       "      <td>said to me. All I had to do was hear one word...</td>\n",
       "      <td>says, and this movie was very good,-I really ...</td>\n",
       "      <td>1.710360</td>\n",
       "      <td>4.207656</td>\n",
       "    </tr>\n",
       "    <tr>\n",
       "      <th>1</th>\n",
       "      <td>The female hot numbers on</td>\n",
       "      <td>the Fonda get a saving grace here, you can st...</td>\n",
       "      <td>the DVD are beautiful. The music is extraordi...</td>\n",
       "      <td>1.585194</td>\n",
       "      <td>4.228330</td>\n",
       "    </tr>\n",
       "    <tr>\n",
       "      <th>2</th>\n",
       "      <td>In the film Kongwon</td>\n",
       "      <td>(American Truffaut), a snake made of ash fall...</td>\n",
       "      <td>has a funky personality and makes the movies ...</td>\n",
       "      <td>-0.015413</td>\n",
       "      <td>2.537073</td>\n",
       "    </tr>\n",
       "    <tr>\n",
       "      <th>3</th>\n",
       "      <td>Let's see: what</td>\n",
       "      <td>a blast from start to finish, female and male...</td>\n",
       "      <td>happens on that later?&lt;|endoftext|&gt; This film...</td>\n",
       "      <td>3.278678</td>\n",
       "      <td>4.061680</td>\n",
       "    </tr>\n",
       "    <tr>\n",
       "      <th>4</th>\n",
       "      <td>Really? Is this necessary</td>\n",
       "      <td>for Sith philosophy combined with missionary ...</td>\n",
       "      <td>? Watched this too, but it's what made it so b...</td>\n",
       "      <td>-2.509291</td>\n",
       "      <td>3.025524</td>\n",
       "    </tr>\n",
       "    <tr>\n",
       "      <th>5</th>\n",
       "      <td>During a sleepless night</td>\n",
       "      <td>Keira Knightley has besieged a monastery, tro...</td>\n",
       "      <td>, I found this Parker Bros. film. The acting i...</td>\n",
       "      <td>1.341672</td>\n",
       "      <td>3.933312</td>\n",
       "    </tr>\n",
       "    <tr>\n",
       "      <th>6</th>\n",
       "      <td>My wife spotted this film</td>\n",
       "      <td>almost halfway through second grade, and afte...</td>\n",
       "      <td>when I was younger and kept her P-1-her-p-</td>\n",
       "      <td>1.781651</td>\n",
       "      <td>1.456647</td>\n",
       "    </tr>\n",
       "    <tr>\n",
       "      <th>7</th>\n",
       "      <td>I love John's work</td>\n",
       "      <td>but I actually have to write language as in w...</td>\n",
       "      <td>and I hereby recommend this film. I am really...</td>\n",
       "      <td>-1.904006</td>\n",
       "      <td>4.159198</td>\n",
       "    </tr>\n",
       "    <tr>\n",
       "      <th>8</th>\n",
       "      <td>I's a big struggle</td>\n",
       "      <td>to see anyone who acts in that way. by Jim Th...</td>\n",
       "      <td>, but overall I'm happy with the changes even ...</td>\n",
       "      <td>-1.595925</td>\n",
       "      <td>2.651260</td>\n",
       "    </tr>\n",
       "    <tr>\n",
       "      <th>9</th>\n",
       "      <td>i liked this film a</td>\n",
       "      <td>lot Paul Verhoeven The other actor does what ...</td>\n",
       "      <td>lot recipe. It was probably one of the best m...</td>\n",
       "      <td>4.314877</td>\n",
       "      <td>4.346435</td>\n",
       "    </tr>\n",
       "    <tr>\n",
       "      <th>10</th>\n",
       "      <td>I'd never seen a</td>\n",
       "      <td>heavier, woodier example of Victorian archite...</td>\n",
       "      <td>film of this caliber, and I think it's wonder...</td>\n",
       "      <td>3.297736</td>\n",
       "      <td>4.158653</td>\n",
       "    </tr>\n",
       "    <tr>\n",
       "      <th>11</th>\n",
       "      <td>I have to agree with</td>\n",
       "      <td>most people, that Davis was right after all. ...</td>\n",
       "      <td>this movie, the features in this film are fan...</td>\n",
       "      <td>0.609289</td>\n",
       "      <td>4.207779</td>\n",
       "    </tr>\n",
       "    <tr>\n",
       "      <th>12</th>\n",
       "      <td>The only reason I watched</td>\n",
       "      <td>it this soon after was because part of it too...</td>\n",
       "      <td>this movie I really do. It helps a little to ...</td>\n",
       "      <td>-2.684667</td>\n",
       "      <td>-2.928670</td>\n",
       "    </tr>\n",
       "    <tr>\n",
       "      <th>13</th>\n",
       "      <td>When I think of a</td>\n",
       "      <td>film directed by two independent directors, c...</td>\n",
       "      <td>movie, or potentially a comedy in an interest...</td>\n",
       "      <td>-1.889202</td>\n",
       "      <td>2.494266</td>\n",
       "    </tr>\n",
       "    <tr>\n",
       "      <th>14</th>\n",
       "      <td>So first things first..</td>\n",
       "      <td>blank moment. The montage has the mocking tone...</td>\n",
       "      <td>but first we are really surprised when it sho...</td>\n",
       "      <td>-1.846089</td>\n",
       "      <td>2.433687</td>\n",
       "    </tr>\n",
       "    <tr>\n",
       "      <th>15</th>\n",
       "      <td>...this one just isn</td>\n",
       "      <td>'t theretonally. I understand the enterprise a...</td>\n",
       "      <td>'t really in, after seeing it. I just love it ...</td>\n",
       "      <td>-2.095725</td>\n",
       "      <td>4.127057</td>\n",
       "    </tr>\n",
       "  </tbody>\n",
       "</table>\n",
       "</div>"
      ],
      "text/plain": [
       "                        query  \\\n",
       "0       That's what the title   \n",
       "1   The female hot numbers on   \n",
       "2         In the film Kongwon   \n",
       "3             Let's see: what   \n",
       "4   Really? Is this necessary   \n",
       "5    During a sleepless night   \n",
       "6   My wife spotted this film   \n",
       "7          I love John's work   \n",
       "8          I's a big struggle   \n",
       "9         i liked this film a   \n",
       "10           I'd never seen a   \n",
       "11       I have to agree with   \n",
       "12  The only reason I watched   \n",
       "13          When I think of a   \n",
       "14    So first things first..   \n",
       "15       ...this one just isn   \n",
       "\n",
       "                                    response (before)  \\\n",
       "0    said to me. All I had to do was hear one word...   \n",
       "1    the Fonda get a saving grace here, you can st...   \n",
       "2    (American Truffaut), a snake made of ash fall...   \n",
       "3    a blast from start to finish, female and male...   \n",
       "4    for Sith philosophy combined with missionary ...   \n",
       "5    Keira Knightley has besieged a monastery, tro...   \n",
       "6    almost halfway through second grade, and afte...   \n",
       "7    but I actually have to write language as in w...   \n",
       "8    to see anyone who acts in that way. by Jim Th...   \n",
       "9    lot Paul Verhoeven The other actor does what ...   \n",
       "10   heavier, woodier example of Victorian archite...   \n",
       "11   most people, that Davis was right after all. ...   \n",
       "12   it this soon after was because part of it too...   \n",
       "13   film directed by two independent directors, c...   \n",
       "14  blank moment. The montage has the mocking tone...   \n",
       "15  't theretonally. I understand the enterprise a...   \n",
       "\n",
       "                                     response (after)  rewards (before)  \\\n",
       "0    says, and this movie was very good,-I really ...          1.710360   \n",
       "1    the DVD are beautiful. The music is extraordi...          1.585194   \n",
       "2    has a funky personality and makes the movies ...         -0.015413   \n",
       "3    happens on that later?<|endoftext|> This film...          3.278678   \n",
       "4   ? Watched this too, but it's what made it so b...         -2.509291   \n",
       "5   , I found this Parker Bros. film. The acting i...          1.341672   \n",
       "6          when I was younger and kept her P-1-her-p-          1.781651   \n",
       "7    and I hereby recommend this film. I am really...         -1.904006   \n",
       "8   , but overall I'm happy with the changes even ...         -1.595925   \n",
       "9    lot recipe. It was probably one of the best m...          4.314877   \n",
       "10   film of this caliber, and I think it's wonder...          3.297736   \n",
       "11   this movie, the features in this film are fan...          0.609289   \n",
       "12   this movie I really do. It helps a little to ...         -2.684667   \n",
       "13   movie, or potentially a comedy in an interest...         -1.889202   \n",
       "14   but first we are really surprised when it sho...         -1.846089   \n",
       "15  't really in, after seeing it. I just love it ...         -2.095725   \n",
       "\n",
       "    rewards (after)  \n",
       "0          4.207656  \n",
       "1          4.228330  \n",
       "2          2.537073  \n",
       "3          4.061680  \n",
       "4          3.025524  \n",
       "5          3.933312  \n",
       "6          1.456647  \n",
       "7          4.159198  \n",
       "8          2.651260  \n",
       "9          4.346435  \n",
       "10         4.158653  \n",
       "11         4.207779  \n",
       "12        -2.928670  \n",
       "13         2.494266  \n",
       "14         2.433687  \n",
       "15         4.127057  "
      ]
     },
     "execution_count": null,
     "metadata": {},
     "output_type": "execute_result"
    }
   ],
   "source": [
    "#### get a batch from the dataset\n",
    "bs = 16\n",
    "game_data = dict()\n",
    "df_batch = df.sample(bs)\n",
    "game_data['query'] = df_batch['query'].tolist()\n",
    "query_tensors = torch.stack(df_batch['tokens'].tolist())\n",
    "\n",
    "#### get response from gpt2 and gpt2_ref\n",
    "total_length = config['txt_in_len']+config['txt_out_len']\n",
    "response_tensors_ref  = gpt2_model_ref.respond_to_batch(query_tensors, max_length=config['txt_out_len'])\n",
    "game_data['response (before)'] = [gpt2_tokenizer.decode(response_tensors_ref[i, :]) for i in range(bs)]\n",
    "\n",
    "response_tensors  = gpt2_model.respond_to_batch(query_tensors, max_length=config['txt_out_len'])\n",
    "game_data['response (after)'] = [gpt2_tokenizer.decode(response_tensors[i, :]) for i in range(bs)]\n",
    "\n",
    "#### sentiment analysis of query/response pairs before/after\n",
    "texts = [q + r for q,r in zip(game_data['query'], game_data['response (before)'])]\n",
    "sentiment_inputs, attention_masks = build_bert_batch_from_txt(texts, sentiment_tokenizer, device)    \n",
    "rewards = sentiment_model.forward(sentiment_inputs, attention_masks)[0][:, 1].detach()\n",
    "game_data['rewards (before)'] = rewards.cpu().numpy()\n",
    "\n",
    "texts = [q + r for q,r in zip(game_data['query'], game_data['response (after)'])]\n",
    "sentiment_inputs, attention_masks = build_bert_batch_from_txt(texts, sentiment_tokenizer, device)    \n",
    "rewards = sentiment_model.forward(sentiment_inputs, attention_masks)[0][:, 1].detach()\n",
    "game_data['rewards (after)'] = rewards.cpu().numpy()\n",
    "\n",
    "# store results in a dataframe\n",
    "df_results = pd.DataFrame(game_data)\n",
    "df_results"
   ]
  },
  {
   "cell_type": "markdown",
   "metadata": {},
   "source": [
    "Looking at the reward mean/median of the generated sequences we observe a significant difference."
   ]
  },
  {
   "cell_type": "code",
   "execution_count": null,
   "metadata": {},
   "outputs": [
    {
     "name": "stdout",
     "output_type": "stream",
     "text": [
      "mean:\n"
     ]
    },
    {
     "data": {
      "text/plain": [
       "rewards (before)    0.211196\n",
       "rewards (after)     3.068743\n",
       "dtype: float64"
      ]
     },
     "metadata": {},
     "output_type": "display_data"
    },
    {
     "name": "stdout",
     "output_type": "stream",
     "text": [
      "\n",
      "median:\n"
     ]
    },
    {
     "data": {
      "text/plain": [
       "rewards (before)    0.296938\n",
       "rewards (after)     3.997496\n",
       "dtype: float64"
      ]
     },
     "metadata": {},
     "output_type": "display_data"
    }
   ],
   "source": [
    "print('mean:')\n",
    "display(df_results.mean())\n",
    "print()\n",
    "print('median:')\n",
    "display(df_results.median())"
   ]
  },
  {
   "cell_type": "markdown",
   "metadata": {},
   "source": [
    "## Save model\n",
    "Finally, we save the model to disk for later usage."
   ]
  },
  {
   "cell_type": "code",
   "execution_count": null,
   "metadata": {},
   "outputs": [
    {
     "data": {
      "text/plain": [
       "('gpt2-imdb-pos/vocab.json',\n",
       " 'gpt2-imdb-pos/merges.txt',\n",
       " 'gpt2-imdb-pos/special_tokens_map.json',\n",
       " 'gpt2-imdb-pos/added_tokens.json')"
      ]
     },
     "execution_count": null,
     "metadata": {},
     "output_type": "execute_result"
    }
   ],
   "source": [
    "os.makedirs('gpt2-imdb-pos')\n",
    "gpt2_model.save_pretrained('gpt2-imdb-pos')\n",
    "gpt2_tokenizer.save_pretrained('gpt2-imdb-pos')"
   ]
  },
  {
   "cell_type": "code",
   "execution_count": null,
   "metadata": {},
   "outputs": [],
   "source": []
  }
 ],
 "metadata": {
  "kernelspec": {
   "display_name": "Python 3",
   "language": "python",
   "name": "python3"
  }
 },
 "nbformat": 4,
 "nbformat_minor": 4
}
